{
 "cells": [
  {
   "cell_type": "markdown",
   "metadata": {},
   "source": [
    "# APIs - Cumulative Lab\n",
    "\n",
    "\n",
    "## Introduction \n",
    "\n",
    "We've seen how the Yelp API works and how to create basic visualizations using Folium. It's time to put those skills to work in order to create a working map! Taking things a step further, you'll also independently explore how to perform pagination in order to retrieve a full results set from the Yelp API.\n",
    "\n",
    "## Objectives\n",
    "\n",
    "You will be able to: \n",
    "\n",
    "* Practice using functions to organize your code\n",
    "* Use pagination to retrieve all results from an API query\n",
    "* Practice parsing data returned from an API query\n",
    "* Practice interpreting visualizations of a dataset\n",
    "* Create maps using Folium"
   ]
  },
  {
   "cell_type": "markdown",
   "metadata": {},
   "source": [
    "## Your Task: Query Yelp for All Businesses in a Category and Analyze the Results\n",
    "\n",
    "![restaurant counter with pizza](images/restaurant_counter.jpg)\n",
    "\n",
    "Photo by <a href=\"https://unsplash.com/@jordanmadrid?utm_source=unsplash&utm_medium=referral&utm_content=creditCopyText\">Jordan Madrid</a> on <a href=\"/s/photos/pizza-restaurant?utm_source=unsplash&utm_medium=referral&utm_content=creditCopyText\">Unsplash</a>"
   ]
  },
  {
   "cell_type": "markdown",
   "metadata": {},
   "source": [
    "### Overview\n",
    "\n",
    "You've now worked with some API calls, but we have yet to see how to retrieve a more complete dataset in a programmatic manner. In this lab, you will write a query of businesses on Yelp, then use *pagination* to retrieve all possible results for that query. Then you will create a summary of your findings, including a Folium map of the geographic locations of those businesses.\n",
    "\n",
    "### Technical Details\n",
    "\n",
    "Returning to the Yelp API, the [documentation](https://www.yelp.com/developers/documentation/v3/business_search) also provides us details regarding the **API limits**. These often include details about the number of requests a user is allowed to make within a specified time limit and the maximum number of results to be returned. In this case, we are told that any request has a **maximum of 50 results per request** and defaults to 20. Furthermore, any search will be limited to a **total of 1000 results**. To retrieve all 1000 of these results, we would have to page through the results piece by piece, retrieving 50 at a time. Processes such as these are often referred to as pagination.\n",
    "\n",
    "Also, be mindful of the **API** ***rate*** **limits**. You can only make **5000 requests per day** and are also can make requests too fast. Start prototyping small before running a loop that could be faulty. You can also use `time.sleep(n)` to add delays. For more details see https://www.yelp.com/developers/documentation/v3/rate_limiting.\n",
    "\n",
    "In this lab, you will define a search and then paginate over the results to retrieve all of the results. You'll then parse these responses as a list of dictionaries (for further exploration) and create a map using Folium to visualize the results geographically.\n",
    "\n",
    "### Requirements\n",
    "\n",
    "#### 1. Make the Initial Request\n",
    "\n",
    "Start by filling in your API key to make the initial request to the business search API. Investigate the structure of the response you get back and start figuring out how you will extract the relevant information.\n",
    "\n",
    "#### 2. Add Pagination\n",
    "\n",
    "Using loops and functions, collect the maximum number of results for your query from the API.\n",
    "\n",
    "#### 3. Perform Exploratory Analysis\n",
    "\n",
    "Interpret visualizations related to the price range, average rating, and number of reviews for all query results.\n",
    "\n",
    "#### 4. Create a Folium Map\n",
    "\n",
    "Using latitude and longitude data, plot the query results on an interactive map."
   ]
  },
  {
   "cell_type": "markdown",
   "metadata": {},
   "source": [
    "## 1. Make the Initial Request\n",
    "\n",
    "### Querying\n",
    "\n",
    "Start by making an initial request to the Yelp API. Your search must include at least 2 parameters: **term** and **location**. For example, you might search for pizza restaurants in NYC. The term and location is up to you but make the request below.\n",
    "\n",
    "Use the `requests` library ([documentation here](https://requests.readthedocs.io/en/master/user/quickstart/#make-a-request)).\n",
    "\n",
    "You'll also need an API key from Yelp. If you haven't done this already, go to the Yelp [Manage App page](https://www.yelp.com/developers/v3/manage_app) and create a new app (after making an account if you haven't already)."
   ]
  },
  {
   "cell_type": "code",
   "execution_count": 30,
   "metadata": {},
   "outputs": [
    {
     "name": "stdout",
     "output_type": "stream",
     "text": [
      "Collecting python-dotenv\n",
      "  Downloading python_dotenv-0.21.0-py3-none-any.whl (18 kB)\n",
      "Installing collected packages: python-dotenv\n",
      "Successfully installed python-dotenv-0.21.0\n"
     ]
    }
   ],
   "source": [
    "!pip install python-dotenv"
   ]
  },
  {
   "cell_type": "code",
   "execution_count": 32,
   "metadata": {},
   "outputs": [
    {
     "data": {
      "text/plain": [
       "<Response [200]>"
      ]
     },
     "execution_count": 32,
     "metadata": {},
     "output_type": "execute_result"
    }
   ],
   "source": [
    "# Replace None with appropriate code\n",
    "\n",
    "# Import the requests library\n",
    "import requests\n",
    "\n",
    "import os\n",
    "from dotenv import load_dotenv\n",
    "load_dotenv()\n",
    "\n",
    "\n",
    "# Get this from the \"Manage App\" page. Make sure you set them\n",
    "# back to None before pushing this to GitHub, since otherwise\n",
    "# your credentials will be compromised\n",
    "api_key = os.getenv('my_api_key')\n",
    "\n",
    "# These can be whatever you want! But the solution uses \"pizza\"\n",
    "# and \"New York NY\" if you want to compare your work directly\n",
    "term = \"cake\"\n",
    "location = \"California CA\"\n",
    "\n",
    "# Set up params for request\n",
    "url = \"https://api.yelp.com/v3/businesses/search\"\n",
    "headers = {\n",
    "    \"Authorization\": \"Bearer {}\".format(api_key)\n",
    "}\n",
    "url_params = {\n",
    "    \"term\": term.replace(\" \", \"+\"),\n",
    "    \"location\": location.replace(\" \", \"+\")\n",
    "}\n",
    "\n",
    "# Make the request using requests.get, passing in\n",
    "# url, headers=headers, and params=url_params\n",
    "response = requests.get(url, headers=headers , params=url_params)\n",
    "\n",
    "# Confirm we got a 200 response\n",
    "response"
   ]
  },
  {
   "cell_type": "code",
   "execution_count": 7,
   "metadata": {},
   "outputs": [
    {
     "data": {
      "text/plain": [
       "dict_keys(['businesses', 'total', 'region'])"
      ]
     },
     "execution_count": 7,
     "metadata": {},
     "output_type": "execute_result"
    }
   ],
   "source": [
    "# Run this cell without changes\n",
    "\n",
    "# Get the response body in JSON format\n",
    "response_json = response.json()\n",
    "# View the keys\n",
    "response_json.keys()"
   ]
  },
  {
   "cell_type": "markdown",
   "metadata": {},
   "source": [
    "### Extracting Data\n",
    "\n",
    "Now, retrieve the value associated with the `'businesses'` key, and inspect its contents."
   ]
  },
  {
   "cell_type": "code",
   "execution_count": 8,
   "metadata": {},
   "outputs": [
    {
     "data": {
      "text/plain": [
       "[{'id': '0mYJfbYdUcSp2mg2ghpj3Q',\n",
       "  'alias': 'sweet-dreams-cakes-and-flowers-oakhurst-2',\n",
       "  'name': 'Sweet Dreams Cakes & Flowers',\n",
       "  'image_url': 'https://s3-media2.fl.yelpcdn.com/bphoto/Pxk30AzOem4PfmZgacyHSA/o.jpg',\n",
       "  'is_closed': False,\n",
       "  'url': 'https://www.yelp.com/biz/sweet-dreams-cakes-and-flowers-oakhurst-2?adjust_creative=cw7FDIlnU-cOET-kBVRIPw&utm_campaign=yelp_api_v3&utm_medium=api_v3_business_search&utm_source=cw7FDIlnU-cOET-kBVRIPw',\n",
       "  'review_count': 100,\n",
       "  'categories': [{'alias': 'florists', 'title': 'Florists'},\n",
       "   {'alias': 'customcakes', 'title': 'Custom Cakes'},\n",
       "   {'alias': 'floraldesigners', 'title': 'Floral Designers'}],\n",
       "  'rating': 4.5,\n",
       "  'coordinates': {'latitude': 37.334373920505406, 'longitude': -119.661664},\n",
       "  'transactions': [],\n",
       "  'price': '$$',\n",
       "  'location': {'address1': '40114 Hwy 49',\n",
       "   'address2': 'Ste A',\n",
       "   'address3': '',\n",
       "   'city': 'Oakhurst',\n",
       "   'zip_code': '93644',\n",
       "   'country': 'US',\n",
       "   'state': 'CA',\n",
       "   'display_address': ['40114 Hwy 49', 'Ste A', 'Oakhurst, CA 93644']},\n",
       "  'phone': '+15596417606',\n",
       "  'display_phone': '(559) 641-7606',\n",
       "  'distance': 32340.696557666353},\n",
       " {'id': 'eXgwCvoQTjVAHXW6tg2ZRA',\n",
       "  'alias': 'mountain-cakery-mammoth-lakes',\n",
       "  'name': 'Mountain Cakery',\n",
       "  'image_url': 'https://s3-media2.fl.yelpcdn.com/bphoto/MH_fGkeQKcn8G4EX3adftQ/o.jpg',\n",
       "  'is_closed': False,\n",
       "  'url': 'https://www.yelp.com/biz/mountain-cakery-mammoth-lakes?adjust_creative=cw7FDIlnU-cOET-kBVRIPw&utm_campaign=yelp_api_v3&utm_medium=api_v3_business_search&utm_source=cw7FDIlnU-cOET-kBVRIPw',\n",
       "  'review_count': 60,\n",
       "  'categories': [{'alias': 'desserts', 'title': 'Desserts'},\n",
       "   {'alias': 'customcakes', 'title': 'Custom Cakes'},\n",
       "   {'alias': 'bakeries', 'title': 'Bakeries'}],\n",
       "  'rating': 5.0,\n",
       "  'coordinates': {'latitude': 37.6487808227539,\n",
       "   'longitude': -118.977928161621},\n",
       "  'transactions': [],\n",
       "  'price': '$$',\n",
       "  'location': {'address1': None,\n",
       "   'address2': None,\n",
       "   'address3': '',\n",
       "   'city': 'Mammoth Lakes',\n",
       "   'zip_code': '93546',\n",
       "   'country': 'US',\n",
       "   'state': 'CA',\n",
       "   'display_address': ['Mammoth Lakes, CA 93546']},\n",
       "  'phone': '+17609353902',\n",
       "  'display_phone': '(760) 935-3902',\n",
       "  'distance': 51676.580669713}]"
      ]
     },
     "execution_count": 8,
     "metadata": {},
     "output_type": "execute_result"
    }
   ],
   "source": [
    "# Replace None with appropriate code\n",
    "\n",
    "# Retrieve the value from response_json\n",
    "businesses = response_json[\"businesses\"]\n",
    "\n",
    "# View the first 2 records\n",
    "businesses[:2]"
   ]
  },
  {
   "cell_type": "markdown",
   "metadata": {},
   "source": [
    "### Preparing Data\n",
    "\n",
    "Write a function `prepare_data` that takes in a list of dictionaries like `businesses` and returns a copy that has been prepared for analysis:\n",
    "\n",
    "1. The `coordinates` key-value pair has been converted into two separate key-value pairs, `latitude` and `longitude`\n",
    "2. All other key-value pairs except for `name`, `review_count`, `rating`, and `price` have been dropped\n",
    "3. All dictionaries missing one of the relevant keys or containing null values have been dropped\n",
    "\n",
    "In other words, the final keys for each dictionary should be `name`, `review_count`, `rating`, `price`, `latitude`, and `longitude`.\n",
    "\n",
    "Complete the function in the cell below:"
   ]
  },
  {
   "cell_type": "code",
   "execution_count": 9,
   "metadata": {},
   "outputs": [
    {
     "data": {
      "text/plain": [
       "[{'name': 'Sweet Dreams Cakes & Flowers',\n",
       "  'review_count': 100,\n",
       "  'rating': 4.5,\n",
       "  'price': '$$',\n",
       "  'latitude': 37.334373920505406,\n",
       "  'longitude': -119.661664},\n",
       " {'name': 'Mountain Cakery',\n",
       "  'review_count': 60,\n",
       "  'rating': 5.0,\n",
       "  'price': '$$',\n",
       "  'latitude': 37.6487808227539,\n",
       "  'longitude': -118.977928161621},\n",
       " {'name': \"Dessert'D Organic Bake Shop\",\n",
       "  'review_count': 219,\n",
       "  'rating': 4.0,\n",
       "  'price': '$$',\n",
       "  'latitude': 37.63753,\n",
       "  'longitude': -118.96693},\n",
       " {'name': 'Jantz Bakery',\n",
       "  'review_count': 88,\n",
       "  'rating': 4.5,\n",
       "  'price': '$',\n",
       "  'latitude': 37.4867,\n",
       "  'longitude': -119.96775},\n",
       " {'name': 'East Side Bake Shop',\n",
       "  'review_count': 44,\n",
       "  'rating': 4.5,\n",
       "  'price': '$$',\n",
       "  'latitude': 37.585753,\n",
       "  'longitude': -118.783052}]"
      ]
     },
     "execution_count": 9,
     "metadata": {},
     "output_type": "execute_result"
    }
   ],
   "source": [
    "# Replace None with appropriate code\n",
    "\n",
    "def prepare_data(data_list):\n",
    "    \"\"\"\n",
    "    This function takes in a list of dictionaries and prepares it\n",
    "    for analysis\n",
    "    \"\"\"\n",
    "    \n",
    "    # Make a new list to hold results\n",
    "    results = []\n",
    "    \n",
    "    for business_data in data_list:\n",
    "    \n",
    "        # Make a new dictionary to hold prepared data for this business\n",
    "        prepared_data = {}\n",
    "        \n",
    "        # Extract name, review_count, rating, and price key-value pairs\n",
    "        # from business_data and add to prepared_data\n",
    "        # If a key is not present in business_data, add it to prepared_data\n",
    "        # with an associated value of None\n",
    "        for key in('name','review_count','rating','price'):\n",
    "            prepared_data[key] = business_data.get(key,None)\n",
    "    \n",
    "        # Parse and add latitude and longitude columns\n",
    "        coord = business_data[\"coordinates\"]\n",
    "        prepared_data[\"latitude\"] = coord[\"latitude\"]\n",
    "        prepared_data[\"longitude\"] = coord[\"longitude\"]\n",
    "        \n",
    "        # Add to list if all values are present\n",
    "        if all(prepared_data.values()):\n",
    "            results.append(prepared_data)\n",
    "    \n",
    "    return results\n",
    "    \n",
    "# Test out function\n",
    "prepared_businesses = prepare_data(businesses)\n",
    "prepared_businesses[:5]"
   ]
  },
  {
   "cell_type": "markdown",
   "metadata": {},
   "source": [
    "Check that your function created the correct keys:"
   ]
  },
  {
   "cell_type": "code",
   "execution_count": 10,
   "metadata": {},
   "outputs": [],
   "source": [
    "# Run this cell without changes\n",
    "\n",
    "assert sorted(list(prepared_businesses[0].keys())) == ['latitude', 'longitude', 'name', 'price', 'rating', 'review_count']"
   ]
  },
  {
   "cell_type": "markdown",
   "metadata": {},
   "source": [
    "The following code will differ depending on your query, but we expect there to be 20 businesses in the original list, and potentially fewer in the prepared list (if any of them were missing data):"
   ]
  },
  {
   "cell_type": "code",
   "execution_count": 11,
   "metadata": {},
   "outputs": [
    {
     "name": "stdout",
     "output_type": "stream",
     "text": [
      "Original: 20\n",
      "Prepared: 18\n"
     ]
    }
   ],
   "source": [
    "# Run this cell without changes\n",
    "print(\"Original:\", len(businesses))\n",
    "print(\"Prepared:\", len(prepared_businesses))"
   ]
  },
  {
   "cell_type": "markdown",
   "metadata": {},
   "source": [
    "Great! We will reuse this function once we have retrieved the full dataset."
   ]
  },
  {
   "cell_type": "markdown",
   "metadata": {},
   "source": [
    "## 2. Add Pagination\n",
    "\n",
    "Now that you are able to extract information from one page of the response, let's figure out how to request as many pages as possible.\n",
    "\n",
    "### Determining the Total\n",
    "\n",
    "Depending on the number of total results for your query, you will either retrieve all of the results, or just the first 1000 (if there are more than 1000 total).\n",
    "\n",
    "We can find the total number of results using the `\"total\"` key:"
   ]
  },
  {
   "cell_type": "code",
   "execution_count": 12,
   "metadata": {},
   "outputs": [
    {
     "data": {
      "text/plain": [
       "728"
      ]
     },
     "execution_count": 12,
     "metadata": {},
     "output_type": "execute_result"
    }
   ],
   "source": [
    "# Run this cell without changes\n",
    "response_json[\"total\"]"
   ]
  },
  {
   "cell_type": "markdown",
   "metadata": {},
   "source": [
    "(This is specific to the implementation of the Yelp API. Some APIs will just tell you that there are more pages, or will tell you the number of pages total, rather than the total number of results. If you're not sure, always check the documentation.)\n",
    "\n",
    "In the cell below, assign the variable `total` to either the value shown above (if it is less than 1000), or 1000."
   ]
  },
  {
   "cell_type": "code",
   "execution_count": 13,
   "metadata": {},
   "outputs": [],
   "source": [
    "# Replace None with appropriate code\n",
    "total = 500"
   ]
  },
  {
   "cell_type": "markdown",
   "metadata": {},
   "source": [
    "### Calculating the Offsets\n",
    "\n",
    "The documentation states in the parameters section:\n",
    "\n",
    "> **Name**: `limit`, **Type:** int, **Description:** Optional. Number of business results to return. By default, it will return 20. Maximum is 50.\n",
    "\n",
    "> **Name**: `offset`, **Type:** int, **Description:** Optional. Offset the list of returned business results by this amount.\n",
    "\n",
    "So, to get the most results with the fewest API calls we want to set a limit of 50 every time. If, say, we wanted to get 210 total results, that would mean:\n",
    "\n",
    "1. Offset of `0` (first 50 records)\n",
    "2. Offset of `50` (second 50 records)\n",
    "3. Offset of `100` (third 50 records)\n",
    "4. Offset of `150` (fourth 50 records)\n",
    "5. Offset of `200` (final 10 records)\n",
    "\n",
    "In the cell below, create a function `get_offsets` that takes in a total and returns a list of offsets for that total. You can assume that there is a limit of 50 every time.\n",
    "\n",
    "*Hint: you can use `range` ([documentation here](https://docs.python.org/3.3/library/stdtypes.html?highlight=range#range)) to do this in one line of code. Just make the returned result is a list.*"
   ]
  },
  {
   "cell_type": "code",
   "execution_count": 14,
   "metadata": {},
   "outputs": [],
   "source": [
    "# Replace None with appropriate code\n",
    "def get_offsets(total):\n",
    "    \"\"\"\n",
    "    Get a list of offsets needed to get all pages\n",
    "    of data up until the total\n",
    "    \"\"\"\n",
    "    return list(range(0, total,50))"
   ]
  },
  {
   "cell_type": "markdown",
   "metadata": {},
   "source": [
    "Check that your function works below:"
   ]
  },
  {
   "cell_type": "code",
   "execution_count": 15,
   "metadata": {},
   "outputs": [],
   "source": [
    "# Run this cell without changes\n",
    "\n",
    "assert get_offsets(200) == [0, 50, 100, 150]\n",
    "assert get_offsets(210) == [0, 50, 100, 150, 200]"
   ]
  },
  {
   "cell_type": "markdown",
   "metadata": {},
   "source": [
    "### Putting It All Together\n",
    "\n",
    "Recall that the following variable has already been declared for you:"
   ]
  },
  {
   "cell_type": "code",
   "execution_count": 16,
   "metadata": {},
   "outputs": [
    {
     "data": {
      "text/plain": [
       "{'term': 'cake', 'location': 'California+CA'}"
      ]
     },
     "execution_count": 16,
     "metadata": {},
     "output_type": "execute_result"
    }
   ],
   "source": [
    "# Run this cell without changes\n",
    "url_params"
   ]
  },
  {
   "cell_type": "markdown",
   "metadata": {},
   "source": [
    "We'll go ahead and also specify that the limit should be 50 every time:"
   ]
  },
  {
   "cell_type": "code",
   "execution_count": 17,
   "metadata": {},
   "outputs": [],
   "source": [
    "# Run this cell without changes\n",
    "url_params[\"limit\"] = 50"
   ]
  },
  {
   "cell_type": "markdown",
   "metadata": {},
   "source": [
    "In order to modify the offset, you'll need to add it to `url_params` with the key `\"offset\"` and whatever value is needed.\n",
    "\n",
    "In the cell below, write code that:\n",
    "\n",
    "* Creates an empty list for the full prepared dataset\n",
    "* Loops over all of the offsets from `get_offsets` and makes an API call each time with the specified offset\n",
    "* Calls `prepare_data` to get a cleaned version of the result of each API call\n",
    "* Extends the full prepared dataset list with each query's prepared dataset"
   ]
  },
  {
   "cell_type": "code",
   "execution_count": 25,
   "metadata": {},
   "outputs": [
    {
     "data": {
      "text/plain": [
       "404"
      ]
     },
     "execution_count": 25,
     "metadata": {},
     "output_type": "execute_result"
    }
   ],
   "source": [
    "# Replace None with appropriate code\n",
    "\n",
    "# Create an empty list for the full prepared dataset\n",
    "full_dataset = list()\n",
    "\n",
    "for offset in get_offsets(total):\n",
    "    # Add or update the \"offset\" key-value pair in url_params\n",
    "    url_params[\"offset\"] = offset\n",
    "    \n",
    "    # Make the query and get the response\n",
    "    response = requests.get(url, headers=headers, params=url_params)\n",
    "    \n",
    "    # Get the response body in JSON format\n",
    "    response_json = response.json()\n",
    "    \n",
    "    # Get the list of businesses from the response_json\n",
    "    businesses = response_json[\"businesses\"]\n",
    "    \n",
    "    # Call the prepare_data function to get a list of processed data\n",
    "    prepared_businesses = prepare_data(businesses)\n",
    "    \n",
    "    # Extend full_dataset with this list (don't append, or you'll get\n",
    "    # a list of lists instead of a flat list)\n",
    "    full_dataset.extend(prepared_businesses)\n",
    "\n",
    "# Check the length of the full dataset. It will be up to `total`,\n",
    "# potentially less if there were missing values\n",
    "len(full_dataset)"
   ]
  },
  {
   "cell_type": "markdown",
   "metadata": {},
   "source": [
    "This code may take up to a few minutes to run.\n",
    "\n",
    "If you get an error trying to get the response body in JSON format, try adding `time.sleep(1)` right after the `requests.get` line, so your code will sleep for 1 second between each API call."
   ]
  },
  {
   "cell_type": "markdown",
   "metadata": {},
   "source": [
    "## 3. Perform Exploratory Analysis\n",
    "\n",
    "Take the businesses from the previous question and do an initial exploratory analysis. We have provided some plots for you to interpret:"
   ]
  },
  {
   "cell_type": "code",
   "execution_count": 21,
   "metadata": {
    "scrolled": true
   },
   "outputs": [
    {
     "data": {
      "image/png": "[encoded data removed]",
      "text/plain": [
       "<Figure size 1152x360 with 3 Axes>"
      ]
     },
     "metadata": {
      "needs_background": "light"
     },
     "output_type": "display_data"
    }
   ],
   "source": [
    "# Run this cell without changes\n",
    "from collections import Counter\n",
    "import matplotlib.pyplot as plt\n",
    "%matplotlib inline\n",
    "\n",
    "fig, (ax1, ax2, ax3) = plt.subplots(ncols=3, figsize=(16, 5))\n",
    "\n",
    "# Plot distribution of number of reviews\n",
    "all_review_counts = [x[\"review_count\"] for x in full_dataset]\n",
    "ax1.hist(all_review_counts)\n",
    "ax1.set_title(\"Review Count Distribution\")\n",
    "ax1.set_xlabel(\"Number of Reviews\")\n",
    "ax1.set_ylabel(\"Number of Businesses\")\n",
    "\n",
    "# Plot rating distribution\n",
    "all_ratings = [x[\"rating\"] for x in full_dataset]\n",
    "rating_counter = Counter(all_ratings)\n",
    "rating_keys = sorted(rating_counter.keys())\n",
    "ax2.bar(rating_keys, [rating_counter[key] for key in rating_keys])\n",
    "ax2.set_title(\"Rating Distribution\")\n",
    "ax2.set_xlabel(\"Rating\")\n",
    "ax2.set_ylabel(\"Number of Businesses\")\n",
    "\n",
    "# Plot price distribution\n",
    "all_prices = [x[\"price\"].replace(\"$\", r\"\\$\") for x in full_dataset]\n",
    "price_counter = Counter(all_prices)\n",
    "price_keys = sorted(price_counter.keys())\n",
    "ax3.bar(price_keys, [price_counter[key] for key in price_keys])\n",
    "ax3.set_title(\"Price Distribution\")\n",
    "ax3.set_xlabel(\"Price Category\")\n",
    "ax3.set_ylabel(\"Number of Businesses\");"
   ]
  },
  {
   "cell_type": "markdown",
   "metadata": {},
   "source": [
    "Describe the distributions displayed above and interpret them in the context of your query. (Your answer may differ from the solution branch depending on your query.)"
   ]
  },
  {
   "cell_type": "code",
   "execution_count": null,
   "metadata": {},
   "outputs": [],
   "source": [
    "# Replace None with appropriate text\n",
    "\"\"\"\n",
    "The Rating Distribution is negatively skewed,the mean can be zero or a negative value.\n",
    "The review Distribution is positively skewed,The mean is a positive value and would be on the right side of the median and/or mode.\n",
    "The price Distribution\n",
    "\"\"\""
   ]
  },
  {
   "cell_type": "markdown",
   "metadata": {},
   "source": [
    "In the cell below, we also plot the rating distributions by price. In this setup, a price of one dollar sign is \"lower price\" and everything else is \"higher price\"."
   ]
  },
  {
   "cell_type": "code",
   "execution_count": 22,
   "metadata": {},
   "outputs": [
    {
     "data": {
      "image/png": "[encoded data removed]",
      "text/plain": [
       "<Figure size 432x288 with 1 Axes>"
      ]
     },
     "metadata": {
      "needs_background": "light"
     },
     "output_type": "display_data"
    }
   ],
   "source": [
    "# Run this cell without changes\n",
    "\n",
    "higher_price = []\n",
    "lower_price = []\n",
    "for row in full_dataset:\n",
    "    if row[\"price\"] == \"$\":\n",
    "        lower_price.append(row[\"rating\"])\n",
    "    else:\n",
    "        higher_price.append(row[\"rating\"])\n",
    "        \n",
    "fig, ax = plt.subplots()\n",
    "\n",
    "ax.hist([higher_price, lower_price], label=[\"higher price\", \"lower price\"], density=True)\n",
    "\n",
    "ax.legend();"
   ]
  },
  {
   "cell_type": "markdown",
   "metadata": {},
   "source": [
    "Is a higher price associated with a higher rating? (No need for any additional math/statistics, just interpret what you see in the plot.)"
   ]
  },
  {
   "cell_type": "code",
   "execution_count": null,
   "metadata": {},
   "outputs": [],
   "source": [
    "# Replace None with appropriate text\n",
    "\"\"\"\n",
    "Yes,the higher the price the higher the rating.We especially see that from rating of 3 to 5.\n",
    "\"\"\""
   ]
  },
  {
   "cell_type": "markdown",
   "metadata": {},
   "source": [
    "Finally, let's look at ratings vs. review counts:"
   ]
  },
  {
   "cell_type": "code",
   "execution_count": 23,
   "metadata": {},
   "outputs": [
    {
     "data": {
      "image/png": "[encoded data removed]",
      "text/plain": [
       "<Figure size 1152x360 with 1 Axes>"
      ]
     },
     "metadata": {
      "needs_background": "light"
     },
     "output_type": "display_data"
    }
   ],
   "source": [
    "# Run this cell without changes\n",
    "fig, ax = plt.subplots(figsize=(16,5))\n",
    "\n",
    "ax.scatter(all_review_counts, all_ratings, alpha=0.2)\n",
    "ax.set_xlabel(\"Number of Reviews\")\n",
    "ax.set_ylabel(\"Rating\")\n",
    "# \"zoom in\" to a subset of review counts\n",
    "ax.set_xlim(left=0, right=1000);"
   ]
  },
  {
   "cell_type": "markdown",
   "metadata": {},
   "source": [
    "Is a higher number of reviews associated with a higher rating?"
   ]
  },
  {
   "cell_type": "code",
   "execution_count": null,
   "metadata": {},
   "outputs": [],
   "source": [
    "# Replace None with appropriate text\n",
    "\"\"\"\n",
    "It cannot be clearly shown but from the visualization above,from 400 to 1000 reviews,the ratings are relatively\n",
    "lower compared to 0 to 400.\n",
    "\"\"\""
   ]
  },
  {
   "cell_type": "markdown",
   "metadata": {},
   "source": [
    "## 4. Create a Folium Map\n",
    "\n",
    "Make a map using Folium of the businesses you retrieved. Be sure to also add popups to the markers giving some basic information such as name, rating and price.\n",
    "\n",
    "You can center the map around the latitude and longitude of the first item in `full_dataset`."
   ]
  },
  {
   "cell_type": "code",
   "execution_count": 26,
   "metadata": {},
   "outputs": [
    {
     "data": {
      "text/html": [
       "<div style=\"width:100%;\"><div style=\"position:relative;width:100%;height:0;padding-bottom:60%;\"><span style=\"color:#565656\">Make this Notebook Trusted to load map: File -> Trust Notebook</span><iframe src=\"about:blank\" style=\"position:absolute;width:100%;height:100%;left:0;top:0;border:none !important;\" data-html=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 onload=\"this.contentDocument.open();this.contentDocument.write(atob(this.getAttribute('data-html')));this.contentDocument.close();\" allowfullscreen webkitallowfullscreen mozallowfullscreen></iframe></div></div>"
      ],
      "text/plain": [
       "<folium.folium.Map at 0x7febbbf19b20>"
      ]
     },
     "execution_count": 26,
     "metadata": {},
     "output_type": "execute_result"
    }
   ],
   "source": [
    "# Replace None with appropriate code\n",
    "\n",
    "# Import the library\n",
    "import folium\n",
    "\n",
    "# Set up center latitude and longitude\n",
    "center_lat = full_dataset[0][\"latitude\"]\n",
    "center_long = full_dataset[0][\"longitude\"]\n",
    "\n",
    "# Initialize map with center lat and long\n",
    "yelp_map = folium.Map([center_lat,center_long],zoom_start=13)\n",
    "\n",
    "# Adjust this limit to see more or fewer businesses\n",
    "limit=100\n",
    "\n",
    "for business in full_dataset[:limit]:\n",
    "    # Extract information about business\n",
    "    lat = business[\"latitude\"]\n",
    "    long = business[\"longitude\"]\n",
    "    name = business[\"name\"]\n",
    "    rating = business[\"rating\"]\n",
    "    price = business[\"price\"]\n",
    "    details = \"{}\\nPrice: {} Rating:{}\".format(name,price,rating)\n",
    "    \n",
    "    # Create popup with relevant details\n",
    "    popup = folium.Popup(details)\n",
    "    \n",
    "    # Create marker with relevant lat/long and popup\n",
    "    marker = folium.Marker(location=[lat, long], popup=popup)\n",
    "    \n",
    "    marker.add_to(yelp_map)\n",
    "    \n",
    "yelp_map"
   ]
  },
  {
   "cell_type": "markdown",
   "metadata": {},
   "source": [
    "## Summary\n",
    "\n",
    "Nice work! In this lab, you've made multiple API calls to Yelp in order to paginate through a results set, performing some basic exploratory analysis and then creating a nice interactive map to display the results using Folium! Well done!"
   ]
  }
 ],
 "metadata": {
  "kernelspec": {
   "display_name": "Python 3",
   "language": "python",
   "name": "python3"
  },
  "language_info": {
   "codemirror_mode": {
    "name": "ipython",
    "version": 3
   },
   "file_extension": ".py",
   "mimetype": "text/x-python",
   "name": "python",
   "nbconvert_exporter": "python",
   "pygments_lexer": "ipython3",
   "version": "3.8.5"
  },
  "toc": {
   "base_numbering": 1,
   "nav_menu": {},
   "number_sections": true,
   "sideBar": true,
   "skip_h1_title": false,
   "title_cell": "Table of Contents",
   "title_sidebar": "Contents",
   "toc_cell": false,
   "toc_position": {},
   "toc_section_display": true,
   "toc_window_display": false
  }
 },
 "nbformat": 4,
 "nbformat_minor": 2
}
